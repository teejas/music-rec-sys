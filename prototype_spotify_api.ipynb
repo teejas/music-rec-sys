{
 "cells": [
  {
   "cell_type": "markdown",
   "metadata": {},
   "source": [
    "## Introduction\n",
    "\n",
    "This is a quick prototype of my project specs using the Spotify API. My end goal with the project is to have a web interface built on top of recommendation engines built by me which will function based on specifications by the users and a seed object (track, album, artist). For now the prototype can leverage the Spotify web API to quickly test out some use cases of my application."
   ]
  },
  {
   "cell_type": "markdown",
   "metadata": {},
   "source": [
    "## Setup\n",
    "\n",
    "We're going to use the python api client for Spotify, which is rightfully called spotipy. We'll take some user input (a song or artist name) and return a playlist of recommended tracks given a few configurable parameters. "
   ]
  },
  {
   "cell_type": "code",
   "execution_count": 6,
   "metadata": {},
   "outputs": [
    {
     "name": "stdout",
     "output_type": "stream",
     "text": [
      "export CLICOLOR=\"1\"\r\n",
      "export CPATH=\"/usr/local/include\"\r\n",
      "export DISPLAY=\"/private/tmp/com.apple.launchd.bQeooZUYXa/org.macosforge.xquartz:0\"\r\n",
      "export GIT_PAGER=\"cat\"\r\n",
      "export HOME=\"/Users/tejassiripurapu\"\r\n",
      "export JPY_PARENT_PID=\"13897\"\r\n",
      "export LANG=\"en_US.UTF-8\"\r\n",
      "export LIBRARY_PATH=\"/usr/local/lib\"\r\n",
      "export LOGNAME=\"tejassiripurapu\"\r\n",
      "export MPLBACKEND=\"module://ipykernel.pylab.backend_inline\"\r\n",
      "export OLDPWD\r\n",
      "export OMF_CONFIG=\"/Users/tejassiripurapu/.config/omf\"\r\n",
      "export OMF_PATH=\"/Users/tejassiripurapu/.local/share/omf\"\r\n",
      "export PAGER=\"cat\"\r\n",
      "export PATH=\"/usr/local/bin:/usr/local/bin:~/Library/Python/3.7/bin:/Users/tejassiripurapu/google-cloud-sdk/bin:/usr/local/bin:/Users/tejassiripurapu/.rvm/bin:/usr/local/bin:/usr/bin:/bin:/usr/sbin:/sbin:/opt/X11/bin:/Library/TeX/texbin\"\r\n",
      "export PWD=\"/Users/tejassiripurapu/Google Drive/Colab Notebooks\"\r\n",
      "export SDKROOT=\"/Applications/Xcode.app/Contents/Developer/Platforms/MacOSX.platform/Developer/SDKs/MacOSX.sdk\"\r\n",
      "export SHELL=\"/bin/sh\"\r\n",
      "export SHLVL=\"4\"\r\n",
      "export SSH_AUTH_SOCK=\"/private/tmp/com.apple.launchd.4tgCy37z42/Listeners\"\r\n",
      "export TERM=\"xterm-color\"\r\n",
      "export TERM_PROGRAM=\"Apple_Terminal\"\r\n",
      "export TERM_PROGRAM_VERSION=\"433\"\r\n",
      "export TERM_SESSION_ID=\"60C37CC6-5621-4A7A-8B25-41DA8D96182F\"\r\n",
      "export TMPDIR=\"/var/folders/qj/7pjl74vj40g_5h52z5tkzlgh0000gn/T/\"\r\n",
      "export USER=\"tejassiripurapu\"\r\n",
      "export VERSIONER_PYTHON_VERSION=\"2.7\"\r\n",
      "export XPC_FLAGS=\"0x0\"\r\n",
      "export XPC_SERVICE_NAME=\"0\"\r\n",
      "export __CF_USER_TEXT_ENCODING=\"0x1F5:0x0:0x0\"\r\n",
      "export __PYVENV_LAUNCHER__=\"/Applications/Xcode.app/Contents/Developer/usr/bin/python3\"\r\n",
      "export fish_greeting=\"Hello Tejas, welcome back.\"\r\n"
     ]
    },
    {
     "name": "stderr",
     "output_type": "stream",
     "text": [
      "UsageError: Environment does not have key: SPOTIPY_CLIENT_ID\n"
     ]
    }
   ],
   "source": [
    "import spotipy\n",
    "from spotipy.oauth2 import SpotifyClientCredentials\n",
    "\n",
    "!export\n",
    "spotify = spotipy.Spotify(client_credentials_manager=SpotifyClientCredentials())"
   ]
  }
 ],
 "metadata": {
  "kernelspec": {
   "display_name": "Python 3",
   "language": "python",
   "name": "python3"
  },
  "language_info": {
   "codemirror_mode": {
    "name": "ipython",
    "version": 3
   },
   "file_extension": ".py",
   "mimetype": "text/x-python",
   "name": "python",
   "nbconvert_exporter": "python",
   "pygments_lexer": "ipython3",
   "version": "3.7.3"
  }
 },
 "nbformat": 4,
 "nbformat_minor": 2
}
